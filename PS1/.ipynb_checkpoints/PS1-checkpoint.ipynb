{
 "cells": [
  {
   "cell_type": "markdown",
   "metadata": {},
   "source": [
    "# Q1"
   ]
  },
  {
   "cell_type": "code",
   "execution_count": 28,
   "metadata": {
    "collapsed": true
   },
   "outputs": [],
   "source": [
    "def det(a, b, c):\n",
    "    # compute determinant of:\n",
    "    # | a_1 b_1 c_1 |\n",
    "    # | a_2 b_2 c_2 |\n",
    "    # | 1   1    1|\n",
    "\n",
    "    # This is a_1 b_2 - a_1 c_2 - a_2 b_1 + b_1 c_2 + a_2 c_1 - b_2 c_1\n",
    "    assert len(a) == 2\n",
    "    assert len(b) == 2\n",
    "    assert len(c) == 2\n",
    "    \n",
    "    \n",
    "    return a[0] * b[1] - a[0] * c[1] - a[1] * b[0] + b[0] * c[1] + a[1] * c[0] - b[1] * c[0]\n",
    "\n",
    "def CCW(a, b, c):\n",
    "    \"\"\"\n",
    "    Assume inputs are tuples of length 2: left and right.\n",
    "    \"\"\"\n",
    "    assert len(a) == 2\n",
    "    assert len(b) == 2\n",
    "    assert len(c) == 2\n",
    "    \n",
    "    \n",
    "    if a != b:\n",
    "        \n",
    "        # edge case: an overlap\n",
    "        if a == c or b == c:\n",
    "            return 0\n",
    "    \n",
    "        # c, a, and b are collinear\n",
    "        elif (c[1] - a[1]) * (b[0] - a[0]) == (b[1] - a[1]) * (c[0] - a[0]):\n",
    "            \n",
    "            # check if shared x coordinate: a_1 == b_1 == c_1\n",
    "            if c[0] == a[0]:\n",
    "                \n",
    "                # line is c a b\n",
    "                if (c[1] - a[1])/abs(c[1] - a[1]) == -1 * (b[1] - a[1])/abs(b[1] - a[1]):\n",
    "                    return -2\n",
    "                \n",
    "                # line is a b c\n",
    "                elif (c[1] - b[1])/abs(c[1] - b[1]) == -1 * (a[1] - b[1])/abs(a[1] - b[1]):\n",
    "                    return 2\n",
    "                \n",
    "                # line is a c b\n",
    "                elif (a[1] - c[1])/abs(a[1] - c[1]) == -1 * (b[1] - c[1])/abs(b[1] - c[1]):\n",
    "                    return 0\n",
    "            #\n",
    "\n",
    "                else:\n",
    "                    raise ValueError(\"Something wrong, all edge cases failed.\")\n",
    "                   \n",
    "            # check if shared y coordinate: a_2 == b_2 == c_2\n",
    "            elif c[1] == a[1]:\n",
    "                                # line is c a b\n",
    "                if (c[0] - a[0])/abs(c[0] - a[0]) == -1 * (b[0] - a[0])/abs(b[0] - a[0]):\n",
    "                    return -2\n",
    "                \n",
    "                # line is a b c\n",
    "                elif (c[0] - b[0])/abs(c[0] - b[0]) == -1 * (a[0] - b[0])/abs(a[0] - b[0]):\n",
    "                    return 2\n",
    "                \n",
    "                # line is a c b\n",
    "                elif (a[0] - c[0])/abs(a[0] - c[0]) == -1 * (b[0] - c[0])/abs(b[0] - c[0]):\n",
    "                    return 0\n",
    "            #\n",
    "\n",
    "                else:\n",
    "                    raise ValueError(\"Something wrong, all edge cases failed.\")\n",
    "                \n",
    "            \n",
    "            \n",
    "            # line is c a b: opposite sides\n",
    "            elif (c[1] - a[1])/abs(c[1] - a[1]) == -1 * (b[1] - a[1])/abs(b[1] - a[1]) and (c[0] - a[0])/abs(c[0] - a[0]) == -1 * (b[0] - a[0])/abs(b[0] - a[0]):\n",
    "                return -2\n",
    "            \n",
    "            # line is a b c\n",
    "            elif (c[1] - b[1])/abs(c[1] - b[1]) == -1 * (a[1] - b[1])/abs(a[1] - b[1]) and (c[0] - b[0])/abs(c[0] - b[0]) == -1 * (a[0] - b[0])/abs(a[0] - b[0]):\n",
    "                return 2\n",
    "            \n",
    "            # line is a c b\n",
    "            elif (a[1] - c[1])/abs(a[1] - c[1]) == -1 * (b[1] - c[1])/abs(b[1] - c[1]) and (a[0] - c[0])/abs(a[0] - c[0]) == -1 * (b[0] - c[0])/abs(b[0] - c[0]):\n",
    "                return 0\n",
    "        #\n",
    "        \n",
    "            else:\n",
    "                raise ValueError(\"Something wrong, all edge cases failed.\")\n",
    "          \n",
    "        # we know they do not overlap and are not collinear. now just calculate CCW\n",
    "        else:\n",
    "\n",
    "            d = det(a, b, c)\n",
    "            \n",
    "            if d > 0:\n",
    "                return 1\n",
    "            elif d < 0:\n",
    "                return -1\n",
    "            else:\n",
    "                raise ValueError(\"Something's wrong, the determinant is zero but conditions say no overlapping points.\")\n",
    "        \n",
    "        \n",
    "        \n",
    "    elif a == c:\n",
    "        # a = b = c\n",
    "        return 0\n",
    "        \n",
    "    else:\n",
    "        # a =b , a != c\n",
    "        return 2\n",
    "\n",
    "\n",
    "    \n",
    "def intersect(a, b, c, d):\n",
    "    # check if ab intersects with cd\n",
    "    \n",
    "    # the cases are:\n",
    "    # 1. c or d is interior of ab. Then CCW should return 0 for one of them.\n",
    "    # 2. cd intersects ab at single point. Then CCW should return +1 for one, -1 for another\n",
    "    # 3. ab is interior of cd. Then CCW returns +2 for one, -2 for another\n",
    "    \n",
    "    val1 = CCW(a, b, c)\n",
    "    val2 = CCW(a, b, d)\n",
    "    \n",
    "    # One of c or d lies in ab\n",
    "    if val1 == 0 or val2 == 0:\n",
    "        return True\n",
    "    \n",
    "    # c and d are on opposite sides and not collinear. this case is only possible\n",
    "    # if they have opposite CCW values of +/- 1\n",
    "    elif val1 == -1 * val2 and abs(val1) == 1:\n",
    "        return True\n",
    "\n",
    "    # c and d are on opposite sides of ab and are collinear. Here, ab lies entirely inside cd\n",
    "    elif val1 == -1 * val2 and abs(val1) == 2:\n",
    "        return True\n",
    "    \n",
    "    else:\n",
    "        return False\n",
    "    "
   ]
  },
  {
   "cell_type": "code",
   "execution_count": 27,
   "metadata": {
    "collapsed": false
   },
   "outputs": [
    {
     "name": "stdout",
     "output_type": "stream",
     "text": [
      "-0.25\n",
      "-0.25\n"
     ]
    }
   ],
   "source": [
    "a = (0,0)\n",
    "b = (0,0.5)\n",
    "c = (0.5, 1)\n",
    "print det(a, b, c)\n",
    "\n",
    "# just for testing\n",
    "import numpy as np\n",
    "print np.linalg.det(np.array([a + (1,), b + (1,), c + (1,)]))"
   ]
  },
  {
   "cell_type": "code",
   "execution_count": 9,
   "metadata": {
    "collapsed": false
   },
   "outputs": [
    {
     "data": {
      "text/plain": [
       "-1"
      ]
     },
     "execution_count": 9,
     "metadata": {},
     "output_type": "execute_result"
    }
   ],
   "source": [
    "# testing. Clockwise\n",
    "CCW((0,0), (0,1), (1,0))"
   ]
  },
  {
   "cell_type": "code",
   "execution_count": 10,
   "metadata": {
    "collapsed": false
   },
   "outputs": [
    {
     "data": {
      "text/plain": [
       "1"
      ]
     },
     "execution_count": 10,
     "metadata": {},
     "output_type": "execute_result"
    }
   ],
   "source": [
    "# testing. Counterclockwise\n",
    "CCW((0,0), (1,0), (0,1) )"
   ]
  },
  {
   "cell_type": "code",
   "execution_count": 11,
   "metadata": {
    "collapsed": false
   },
   "outputs": [
    {
     "data": {
      "text/plain": [
       "0"
      ]
     },
     "execution_count": 11,
     "metadata": {},
     "output_type": "execute_result"
    }
   ],
   "source": [
    "# A =/= B = C\n",
    "CCW((0,0), (1,0), (1,0) )"
   ]
  },
  {
   "cell_type": "code",
   "execution_count": 12,
   "metadata": {
    "collapsed": false
   },
   "outputs": [
    {
     "data": {
      "text/plain": [
       "0"
      ]
     },
     "execution_count": 12,
     "metadata": {},
     "output_type": "execute_result"
    }
   ],
   "source": [
    "# A = C =/= B \n",
    "CCW((0,0), (1,0), (0,0) )"
   ]
  },
  {
   "cell_type": "code",
   "execution_count": 13,
   "metadata": {
    "collapsed": false
   },
   "outputs": [
    {
     "data": {
      "text/plain": [
       "0"
      ]
     },
     "execution_count": 13,
     "metadata": {},
     "output_type": "execute_result"
    }
   ],
   "source": [
    "# A C B collinear, on x-axis\n",
    "CCW((0,0), (1,0), (0.5,0) )"
   ]
  },
  {
   "cell_type": "code",
   "execution_count": 15,
   "metadata": {
    "collapsed": false
   },
   "outputs": [
    {
     "data": {
      "text/plain": [
       "2"
      ]
     },
     "execution_count": 15,
     "metadata": {},
     "output_type": "execute_result"
    }
   ],
   "source": [
    "# A B C collinear, on x-axis\n",
    "CCW((0,0), (0.5,0), (1,0) )"
   ]
  },
  {
   "cell_type": "code",
   "execution_count": 16,
   "metadata": {
    "collapsed": false
   },
   "outputs": [
    {
     "data": {
      "text/plain": [
       "-2"
      ]
     },
     "execution_count": 16,
     "metadata": {},
     "output_type": "execute_result"
    }
   ],
   "source": [
    "# C A B collinear, on x-axis\n",
    "CCW((0.5,0), (0,0), (1,0) )"
   ]
  },
  {
   "cell_type": "code",
   "execution_count": 14,
   "metadata": {
    "collapsed": false
   },
   "outputs": [
    {
     "data": {
      "text/plain": [
       "0"
      ]
     },
     "execution_count": 14,
     "metadata": {},
     "output_type": "execute_result"
    }
   ],
   "source": [
    "# A C B collinear, on y-axis\n",
    "CCW((0,0), (0, 1), (0, 0.5) )"
   ]
  },
  {
   "cell_type": "code",
   "execution_count": 17,
   "metadata": {
    "collapsed": false
   },
   "outputs": [
    {
     "data": {
      "text/plain": [
       "2"
      ]
     },
     "execution_count": 17,
     "metadata": {},
     "output_type": "execute_result"
    }
   ],
   "source": [
    "# A B C collinear, on y-axis\n",
    "CCW((0,0), (0, 0.5), (0, 1) )"
   ]
  },
  {
   "cell_type": "code",
   "execution_count": 18,
   "metadata": {
    "collapsed": false
   },
   "outputs": [
    {
     "data": {
      "text/plain": [
       "-2"
      ]
     },
     "execution_count": 18,
     "metadata": {},
     "output_type": "execute_result"
    }
   ],
   "source": [
    "# C A B collinear, on y-axis\n",
    "CCW((0,0.5), (0, 0), (0, 1) )"
   ]
  },
  {
   "cell_type": "code",
   "execution_count": 20,
   "metadata": {
    "collapsed": false
   },
   "outputs": [
    {
     "data": {
      "text/plain": [
       "0"
      ]
     },
     "execution_count": 20,
     "metadata": {},
     "output_type": "execute_result"
    }
   ],
   "source": [
    "# A C B collinear normal\n",
    "CCW((1,2), (3,4), (2,3))"
   ]
  },
  {
   "cell_type": "code",
   "execution_count": 19,
   "metadata": {
    "collapsed": false
   },
   "outputs": [
    {
     "data": {
      "text/plain": [
       "2"
      ]
     },
     "execution_count": 19,
     "metadata": {},
     "output_type": "execute_result"
    }
   ],
   "source": [
    "# A B C collinear normal\n",
    "CCW((1,2), (2,3), (3,4))"
   ]
  },
  {
   "cell_type": "code",
   "execution_count": 21,
   "metadata": {
    "collapsed": false
   },
   "outputs": [
    {
     "data": {
      "text/plain": [
       "-2"
      ]
     },
     "execution_count": 21,
     "metadata": {},
     "output_type": "execute_result"
    }
   ],
   "source": [
    "# C A B collinear normal\n",
    "CCW((2,3), (1,2), (3,4))"
   ]
  },
  {
   "cell_type": "code",
   "execution_count": 22,
   "metadata": {
    "collapsed": false
   },
   "outputs": [
    {
     "data": {
      "text/plain": [
       "-1"
      ]
     },
     "execution_count": 22,
     "metadata": {},
     "output_type": "execute_result"
    }
   ],
   "source": [
    "# Clockwise for floating point\n",
    "CCW((0.000001,0.00001), (0.01,1.001), (1.0001,0.0001))"
   ]
  },
  {
   "cell_type": "code",
   "execution_count": 23,
   "metadata": {
    "collapsed": false
   },
   "outputs": [
    {
     "data": {
      "text/plain": [
       "1"
      ]
     },
     "execution_count": 23,
     "metadata": {},
     "output_type": "execute_result"
    }
   ],
   "source": [
    "# CCW for floating point\n",
    "CCW((0.000001,0.00001),  (1.0001,0.0001), (0.01,1.001))"
   ]
  },
  {
   "cell_type": "code",
   "execution_count": 29,
   "metadata": {
    "collapsed": false
   },
   "outputs": [
    {
     "data": {
      "text/plain": [
       "False"
      ]
     },
     "execution_count": 29,
     "metadata": {},
     "output_type": "execute_result"
    }
   ],
   "source": [
    "intersect((0,0), (1,0), (2,0), (3,0))"
   ]
  },
  {
   "cell_type": "code",
   "execution_count": 30,
   "metadata": {
    "collapsed": false
   },
   "outputs": [
    {
     "data": {
      "text/plain": [
       "True"
      ]
     },
     "execution_count": 30,
     "metadata": {},
     "output_type": "execute_result"
    }
   ],
   "source": [
    "intersect((0,0), (2,0), (1,0), (3,0))"
   ]
  },
  {
   "cell_type": "code",
   "execution_count": 31,
   "metadata": {
    "collapsed": false
   },
   "outputs": [
    {
     "data": {
      "text/plain": [
       "True"
      ]
     },
     "execution_count": 31,
     "metadata": {},
     "output_type": "execute_result"
    }
   ],
   "source": [
    "intersect((0,0), (1,0), (-1,0), (3,0))"
   ]
  },
  {
   "cell_type": "code",
   "execution_count": 32,
   "metadata": {
    "collapsed": false
   },
   "outputs": [
    {
     "data": {
      "text/plain": [
       "False"
      ]
     },
     "execution_count": 32,
     "metadata": {},
     "output_type": "execute_result"
    }
   ],
   "source": [
    "intersect((0,0), (1,0), (-0.5,1), (3,1))"
   ]
  },
  {
   "cell_type": "code",
   "execution_count": 33,
   "metadata": {
    "collapsed": false
   },
   "outputs": [
    {
     "data": {
      "text/plain": [
       "True"
      ]
     },
     "execution_count": 33,
     "metadata": {},
     "output_type": "execute_result"
    }
   ],
   "source": [
    "intersect((0,0), (1,0), (0.5,1), (0.5,-1))"
   ]
  },
  {
   "cell_type": "markdown",
   "metadata": {
    "collapsed": true
   },
   "source": [
    "# Q2"
   ]
  },
  {
   "cell_type": "code",
   "execution_count": 65,
   "metadata": {
    "collapsed": false
   },
   "outputs": [],
   "source": [
    "\n",
    "def point_above_line(P, A, B):\n",
    "    \"\"\"\n",
    "    Return 1 if P is above AB, 0 if point is on it, and -1 if below\n",
    "    \"\"\"\n",
    "    assert len(P) == 2\n",
    "    assert len(A) == 2\n",
    "    assert len(B) == 2\n",
    "    \n",
    "    if (A[0] == B[0]):\n",
    "        raise ValueError(\"Above is undefined for this value\")\n",
    "    \n",
    "    \n",
    "    Py_on_line = B[1] + (A[1] - B[1]) * 1.0 / (A[0] - B[0]) * (P[0]  - B[0])\n",
    "    \n",
    "    if P[1] > Py_on_line:\n",
    "        return 1\n",
    "    elif P[1] == Py_on_line:\n",
    "        return 0\n",
    "    elif P[1] < Py_on_line:\n",
    "        return -1\n",
    "    else:\n",
    "        raise ValueError(\"this part of code should never be touched\")\n",
    "\n",
    "def point_below_line(P, A, B):\n",
    "    return -1 * point_above_line(P, A, B)\n",
    "\n",
    "\n",
    "def point_dist_to_line(P, A, B):\n",
    "    \"\"\" Using formula from: https://en.wikipedia.org/wiki/Distance_from_a_point_to_a_line#Line_defined_by_two_points\n",
    "    \"\"\"\n",
    "    \n",
    "    return abs((B[1] - A[1]) * P[0] - (B[0] - A[0]) * P[1] + A[1] * B[0] - A[0] * B[1]) * 1.0 / ((B[1] - A[1])**2 + (B[0] - A[0])**2 )**(0.5)\n",
    "\n",
    "\n",
    "def get_furthest_point(points, A, B):\n",
    "    \"\"\" Get the point furthest away from AB\n",
    "    \"\"\"\n",
    "    furthest = points[0]\n",
    "    furthest_dist = point_dist_to_line(points[0], A, B)\n",
    "    for i in range(1, len(points)):\n",
    "        dist = point_dist_to_line(points[i], A, B)\n",
    "        if dist > furthest_dist:\n",
    "            furthest = points[i]\n",
    "            furthest_dist = dist\n",
    "\n",
    "    return furthest\n",
    "        \n",
    "    \n",
    "\n",
    "def get_leftmost_point(points):\n",
    "    \"\"\"\n",
    "    Return leftmost_point, leftmost_index in linear time \"\"\"\n",
    "    \n",
    "    leftmost_point = points[0]\n",
    "    leftmost_index = 0\n",
    "    for i in range(1, len(points)):\n",
    "        if points[i][0] < leftmost_point[0]:\n",
    "            leftmost_index = i\n",
    "            leftmost_point = points[i]\n",
    "            \n",
    "    return leftmost_point, leftmost_index\n",
    "        \n",
    "\n",
    "def get_rightmost_point(points):\n",
    "    \"\"\"\n",
    "    Return rightmost_point, rightmost_index in linear time \"\"\"\n",
    "    \n",
    "    rightmost_point = points[0]\n",
    "    rightmost_index = 0\n",
    "    for i in range(1, len(points)):\n",
    "        if points[i][0] > rightmost_point[0]:\n",
    "            rightmost_index = i\n",
    "            rightmost_point = points[i]\n",
    "            \n",
    "    return rightmost_point, rightmost_index\n",
    "    \n",
    "\n",
    "def get_topmost_point(points):\n",
    "    \"\"\"\n",
    "    Return topmost_point, topmost_index in linear time \"\"\"\n",
    "    \n",
    "    topmost_point = points[0]\n",
    "    topmost_index = 0\n",
    "    for i in range(1, len(points)):\n",
    "        if points[i][1] > topmost_point[1]:\n",
    "            topmost_index = i\n",
    "            topmost_point = points[i]\n",
    "            \n",
    "    return topmost_point, topmost_index\n",
    "    \n",
    "    \n",
    "def get_bottommost_point(points):\n",
    "    \"\"\"\n",
    "    Return bottommost_point, bottommost_index in linear time \"\"\"\n",
    "    \n",
    "    bottommost_point = points[0]\n",
    "    bottommost_index = 0\n",
    "    for i in range(1, len(points)):\n",
    "        if points[i][1] < bottommost_point[1]:\n",
    "            bottommost_index = i\n",
    "            bottommost_point = points[i]\n",
    "            \n",
    "    return bottommost_point, bottommost_index\n",
    "\n",
    "def quickhull_init(points):\n",
    "    \"\"\"\n",
    "    Return a list of points in order of the convex hull.\n",
    "    \"\"\"\n",
    "    \n",
    "    \n",
    "    \n",
    "    a = get_leftmost_point(points)\n",
    "    points.pop(a)\n",
    "    b = get_rightmost_point(points)\n",
    "    points.pop(b)\n",
    "    c = get_topmost_point(points)\n",
    "    points.pop(c)\n",
    "    d = get_bottommost_point(points)\n",
    "    points.pop(d)\n",
    "    \n",
    "    # you're only left with the corner points now.\n",
    "    ac_corner_points = [p for p in points if point_above_line(p, a, c)]\n",
    "    cb_corner_points = [p for p in points if point_above_line(p, c, b)]\n",
    "    bd_corner_points = [p for p in points if point_below_line(p, b, d)]\n",
    "    da_corner_points = [p for p in points if point_below_line(p, d, a)]\n",
    "    \n",
    "    \n",
    "    \n",
    "    top_hull = quickhull_sub(ac_corner_points, a, c, above=True) + quickhull_sub(cb_corner_points, c, b, above=True)\n",
    "    bottom_hull = quickhull_sub(da_corner_points, d, a, above=False) + quickhull_sub(bd_corner_points, b, d, above=False) \n",
    "    \n",
    "    \n",
    "    # gives consecutive\n",
    "    return top_hull + reversed(bottom_hull)\n",
    "\n",
    "    \n",
    "def quickhull_sub(points, a, b, above=True):\n",
    "    \"\"\"\n",
    "    Subroutine of quickhull. Return a list of the convex hull edges that are above (or below) the points A, B.\n",
    "    Assumes points are already above the line!\n",
    "    \n",
    "    Assumes ab is given left to right.\n",
    "    \n",
    "    Points should not include A or B.\n",
    "\n",
    "    All hulls will be given from left to right.\n",
    "\n",
    "    \"\"\"\n",
    "    \n",
    "    if len(points) == 0:\n",
    "        if above:\n",
    "            # left to right if on top\n",
    "            return [(a, b)]\n",
    "        else:\n",
    "            return [(b, a)]\n",
    "    else:\n",
    "        # there's at least a few point\n",
    "        \n",
    "        if above:\n",
    "            above_points = [p for p in points if point_above_line(p, a, b)]\n",
    "            t = get_furthest_point(above_points, a, b)\n",
    "            above_points.pop(t)\n",
    "            \n",
    "            at_corner_points = [p for p in above_points if point_above_line(p, a, t)]\n",
    "            tb_corner_points = [p for p in above_points if point_above_line(p, t, b)]\n",
    "            \n",
    "            # concattenate the reslting edges\n",
    "            return quickhull_sub(at_corner_points, a, t, above=True) + quickhull_sub(tb_corner_points, t, b, above=True)\n",
    "    \n",
    "        else:\n",
    "            below_points = [p for p in points if point_below_line(p, a, b)]\n",
    "            t = get_furthest_point(below_points, a, b)\n",
    "            below_points.pop(t)\n",
    "            \n",
    "            # a- t- b\n",
    "            \n",
    "            tb_corner_point\n",
    "        \n",
    "            \n",
    "            \n",
    "    \n",
    "    "
   ]
  },
  {
   "cell_type": "code",
   "execution_count": 62,
   "metadata": {
    "collapsed": false,
    "scrolled": true
   },
   "outputs": [
    {
     "name": "stdout",
     "output_type": "stream",
     "text": [
      "1\n",
      "-1\n",
      "0\n"
     ]
    }
   ],
   "source": [
    "print point_above_line((0,1), (1,0), (0,0))\n",
    "\n",
    "print point_above_line((0,-11), (1,0), (0,0))\n",
    "\n",
    "print point_above_line((-0.5, 0), (1,0), (0,0))"
   ]
  },
  {
   "cell_type": "code",
   "execution_count": 52,
   "metadata": {
    "collapsed": false
   },
   "outputs": [
    {
     "name": "stdout",
     "output_type": "stream",
     "text": [
      "Leftmost:  (-3.5, 4)\n",
      "Rightmost:  (4, 5)\n",
      "Topmost:  (4, 5)\n",
      "Bottommost:  (0, 1)\n"
     ]
    }
   ],
   "source": [
    "points = [(0,1), (-2,3), (4,5), (-3.5, 4), (-2, 1)]\n",
    "\n",
    "print \"Leftmost: \", get_leftmost_point(points)[0]\n",
    "print \"Rightmost: \", get_rightmost_point(points)[0]\n",
    "print \"Topmost: \", get_topmost_point(points)[0]\n",
    "print \"Bottommost: \", get_bottommost_point(points)[0]"
   ]
  },
  {
   "cell_type": "code",
   "execution_count": 61,
   "metadata": {
    "collapsed": false
   },
   "outputs": [
    {
     "name": "stdout",
     "output_type": "stream",
     "text": [
      "0.707106781187\n",
      "4.0\n",
      "1.0\n"
     ]
    }
   ],
   "source": [
    "print point_dist_to_line((0,1), (1,1), (0,0))\n",
    "print point_dist_to_line((4,0), (0,3), (0,0))\n",
    "print point_dist_to_line((1,0), (0,3**0.5), (0,0))"
   ]
  },
  {
   "cell_type": "code",
   "execution_count": 69,
   "metadata": {
    "collapsed": false
   },
   "outputs": [
    {
     "name": "stdout",
     "output_type": "stream",
     "text": [
      "Points:  [(3, 2), (3, 5), (7, 0), (2, 2), (4, 6), (7, -2), (2, 5), (1, 7), (2, 1), (1, 2), (1, 4), (4, -1), (5, 3), (1, 4), (1, 0), (5, -1), (2, 6), (8, 1), (4, 3), (3, -2)]\n",
      "Furthest  (7, -2)\n"
     ]
    }
   ],
   "source": [
    "import numpy as np\n",
    "np.random.seed(123)\n",
    "points = [(x,y) for x,y in zip(list(np.random.randint(1, 10, size=20)), list(np.random.randint(-2, 8, size=20)))]\n",
    "print \"Points: \", points\n",
    "A = (5, 5)\n",
    "B = (4, 3)\n",
    "\n",
    "furthest = get_furthest_point(points, A, B)\n",
    "print \"Furthest \", furthest"
   ]
  },
  {
   "cell_type": "code",
   "execution_count": 70,
   "metadata": {
    "collapsed": false
   },
   "outputs": [
    {
     "name": "stdout",
     "output_type": "stream",
     "text": [
      "(3, 2) 0.4472135955\n",
      "(3, 5) 1.788854382\n",
      "(7, 0) 4.0249223595\n",
      "(2, 2) 1.3416407865\n",
      "(4, 6) 1.3416407865\n",
      "(7, -2) 4.9193495505\n",
      "(2, 5) 2.683281573\n",
      "(1, 7) 4.472135955\n",
      "(2, 1) 0.894427191\n",
      "(1, 2) 2.2360679775\n",
      "(1, 4) 3.1304951685\n",
      "(4, -1) 1.788854382\n",
      "(5, 3) 0.894427191\n",
      "(1, 4) 3.1304951685\n",
      "(1, 0) 1.3416407865\n",
      "(5, -1) 2.683281573\n",
      "(2, 6) 3.1304951685\n",
      "(8, 1) 4.472135955\n",
      "(4, 3) 0.0\n",
      "(3, -2) 1.3416407865\n"
     ]
    }
   ],
   "source": [
    "for i in range(len(points)):\n",
    "    print points[i], point_dist_to_line(points[i], A, B)"
   ]
  },
  {
   "cell_type": "code",
   "execution_count": null,
   "metadata": {
    "collapsed": true
   },
   "outputs": [],
   "source": []
  }
 ],
 "metadata": {
  "kernelspec": {
   "display_name": "Python 2",
   "language": "python",
   "name": "python2"
  },
  "language_info": {
   "codemirror_mode": {
    "name": "ipython",
    "version": 2
   },
   "file_extension": ".py",
   "mimetype": "text/x-python",
   "name": "python",
   "nbconvert_exporter": "python",
   "pygments_lexer": "ipython2",
   "version": "2.7.10"
  }
 },
 "nbformat": 4,
 "nbformat_minor": 2
}
